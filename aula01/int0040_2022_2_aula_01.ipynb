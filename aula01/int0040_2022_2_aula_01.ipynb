{
  "nbformat": 4,
  "nbformat_minor": 0,
  "metadata": {
    "colab": {
      "provenance": [],
      "authorship_tag": "ABX9TyPRIG8oSj+g2+DYhuy7+3Mn",
      "include_colab_link": true
    },
    "kernelspec": {
      "name": "python3",
      "display_name": "Python 3"
    },
    "language_info": {
      "name": "python"
    }
  },
  "cells": [
    {
      "cell_type": "markdown",
      "metadata": {
        "id": "view-in-github",
        "colab_type": "text"
      },
      "source": [
        "<a href=\"https://colab.research.google.com/github/fjrsales/tecnicasComputacionais/blob/main_2022_2/aula01/int0040_2022_2_aula_01.ipynb\" target=\"_parent\"><img src=\"https://colab.research.google.com/assets/colab-badge.svg\" alt=\"Open In Colab\"/></a>"
      ]
    },
    {
      "cell_type": "markdown",
      "source": [
        "# Revisão / Introdução à Linguagem Python"
      ],
      "metadata": {
        "id": "MdR76yXuRyPv"
      }
    },
    {
      "cell_type": "markdown",
      "source": [
        "## Exercício 1. Validação de CPFs\n",
        "- CPF -> 11 dígitos [123.456.789-XY], onde X e Y são os dígitos verificadores. \n",
        "\n",
        "### a. Como determinar o X?\n",
        "CPF - 1 2 3 4 5 6 7 8 9 \n",
        "- Soma = [1 2 3 4 5 6 7 8 9] [10,9,8,7,6,5,4,3,2] = 1x10 + 2x9 + 3x8 ... + 3x8 + 2x9\n",
        "- X = 11 - mod(Soma,11), se mod(Soma,11) >= 2. X = 0, caso contrário.\n",
        "  - Obs: mod(Soma, 11) => Resto da divisão de Soma por 11 [Soma % 11] \n",
        "\n",
        "### b. Como determinar o Y?\n",
        "- Similar ao anterior mas adicionando o primeiro dígito verificador ao CPF e começando com os pesos a partir do 11 ao invés de 10, de forma decrescente.\n",
        "\n",
        "#### Especificações:\n",
        "1. O CPF será fornecido como uma string de nove caracteres [para evitar problemas quando o 1o dígito for zero];"
      ],
      "metadata": {
        "id": "y2ilWBRmRwqH"
      }
    },
    {
      "cell_type": "code",
      "source": [
        "cpf = \"123456789\""
      ],
      "metadata": {
        "id": "bJZD8Kc6UFcR"
      },
      "execution_count": null,
      "outputs": []
    },
    {
      "cell_type": "code",
      "source": [
        "for digit in cpf:\n",
        "  print(digit, type(digit))"
      ],
      "metadata": {
        "id": "dV1eQe-xa4RJ"
      },
      "execution_count": null,
      "outputs": []
    },
    {
      "cell_type": "code",
      "source": [
        "sum = 0\n",
        "mask = [10,9,8,7,6,5,4,3,2]"
      ],
      "metadata": {
        "id": "-UBjnxtwbHxE"
      },
      "execution_count": null,
      "outputs": []
    },
    {
      "cell_type": "markdown",
      "source": [
        "\n",
        "```python\n",
        "# Maneira mais \"ingênua\" mas não recomendada\n",
        "for i in range(len(cpf)):\n",
        "  sum += int(cpf[i])*mask[i]\n",
        "\n",
        "print(sum)\n",
        "```\n",
        "\n",
        "\n",
        "```python\n",
        "# Melhor usar enumerate\n",
        "sum = 0\n",
        "for i, digit in enumerate(cpf):\n",
        "  sum += int(digit)*mask[i]\n",
        "\n",
        "print(sum)\n",
        "```\n",
        "\n",
        "\n",
        "```python\n",
        "# zip(l1,l2) permite juntar duas listas l1 e l2 de mesmo tamanho\n",
        "sum = 0 \n",
        "mask = range(10,1,-1) # intervalo de inteiros\n",
        "\n",
        "for digit, weight in zip(cpf,mask):\n",
        "  sum += int(digit)*weight\n",
        "\n",
        "print(sum)\n",
        "```\n",
        "\n",
        "\n",
        "\n",
        "\n",
        "\n"
      ],
      "metadata": {
        "id": "qNnEuy4HiJc_"
      }
    },
    {
      "cell_type": "code",
      "source": [
        "sum = 0\n",
        "for i in range(len(cpf)): # evitar esse tipo de composição range(len(...))\n",
        "  sum += int(cpf[i])*mask[i]\n",
        "\n",
        "print(sum)"
      ],
      "metadata": {
        "colab": {
          "base_uri": "https://localhost:8080/"
        },
        "id": "sUI_fDJVb_uJ",
        "outputId": "cc0b5a18-39d7-41c1-d86f-d4998286b29c"
      },
      "execution_count": null,
      "outputs": [
        {
          "output_type": "stream",
          "name": "stdout",
          "text": [
            "210\n"
          ]
        }
      ]
    },
    {
      "cell_type": "code",
      "source": [
        "sum = 0\n",
        "for i, digit in enumerate(cpf):\n",
        "  sum += int(digit)*mask[i]\n",
        "\n",
        "print(sum)"
      ],
      "metadata": {
        "colab": {
          "base_uri": "https://localhost:8080/"
        },
        "id": "NhuyxjCmcAoB",
        "outputId": "59c39eff-dcf6-412f-b6c2-572e7301f14b"
      },
      "execution_count": null,
      "outputs": [
        {
          "output_type": "stream",
          "name": "stdout",
          "text": [
            "210\n"
          ]
        }
      ]
    },
    {
      "cell_type": "code",
      "source": [
        "X = \"\"\n",
        "mask = range(10,1,-1)\n",
        "sum = 0\n",
        "\n",
        "for digit, weight in zip(cpf,mask):\n",
        "  sum += int(digit)*weight\n",
        "\n",
        "print(sum)\n",
        "\n",
        "temp = sum % 11\n",
        "\n",
        "if(temp >= 2):\n",
        "  X = 11-temp\n",
        "else:\n",
        "  X = 0\n",
        "\n",
        "print(f\"{cpf}-{X}\")"
      ],
      "metadata": {
        "colab": {
          "base_uri": "https://localhost:8080/"
        },
        "id": "rmJ2V6RAX9KJ",
        "outputId": "dea053a7-628c-438a-9e9a-1ade2b4da96e"
      },
      "execution_count": null,
      "outputs": [
        {
          "output_type": "stream",
          "name": "stdout",
          "text": [
            "210\n",
            "123456789-0\n"
          ]
        }
      ]
    },
    {
      "cell_type": "code",
      "source": [
        "Y = \"\"\n",
        "\n",
        "# Diferentes formas de concatenar strings\n",
        "# cpf_d = f'{cpf}{X}'  \n",
        "# cpf_d = cpf + str(X)\n",
        "cpf_d = \"{}{}\".format(cpf,X)\n",
        "\n",
        "mask = range(11,1,-1)\n",
        "sum = 0\n",
        "\n",
        "for digit, weight in zip(cpf_d,mask):\n",
        "  sum += int(digit)*weight\n",
        "\n",
        "print(sum)\n",
        "\n",
        "temp = sum % 11\n",
        "\n",
        "if(temp >= 2):\n",
        "  Y = 11-temp\n",
        "else:\n",
        "  Y = 0\n",
        "\n",
        "print(f\"{cpf}-{X}{Y}\")"
      ],
      "metadata": {
        "colab": {
          "base_uri": "https://localhost:8080/"
        },
        "id": "frtE_Tf1dMCZ",
        "outputId": "6d5228a2-76ed-49a8-8823-b88a0cdd336f"
      },
      "execution_count": null,
      "outputs": [
        {
          "output_type": "stream",
          "name": "stdout",
          "text": [
            "255\n",
            "123456789-09\n"
          ]
        }
      ]
    },
    {
      "cell_type": "markdown",
      "source": [
        "## Exercício 2. Números romanos\n",
        "- Escreva um algoritmo que escreva um número inteiro no intervalo de [1,3999] em algarismos romanos.\n"
      ],
      "metadata": {
        "id": "lDCgOQo4RvlI"
      }
    },
    {
      "cell_type": "code",
      "source": [
        "num = 2022\n",
        "base = {\n",
        "    1 : \"I\",\n",
        "    4 : \"IV\",\n",
        "    5 : \"V\",\n",
        "    9 : \"IX\",\n",
        "    10 : \"X\",\n",
        "    40 : \"XL\",\n",
        "    50 : \"L\",\n",
        "    90 : \"XC\",\n",
        "    100: \"C\",\n",
        "    400: \"CD\",\n",
        "    500: \"D\",\n",
        "    900: \"CM\",\n",
        "    1000: \"M\"\n",
        "}\n",
        "\n"
      ],
      "metadata": {
        "id": "cYit09-bkAoi"
      },
      "execution_count": null,
      "outputs": []
    },
    {
      "cell_type": "code",
      "source": [
        "base = dict(sorted(base.items(), key=lambda x: x[0], reverse=True))\n",
        "print(base)"
      ],
      "metadata": {
        "colab": {
          "base_uri": "https://localhost:8080/"
        },
        "id": "aw10vu4cyFMh",
        "outputId": "5ea3ea37-1813-4f76-b3d4-d8222afd024a"
      },
      "execution_count": null,
      "outputs": [
        {
          "output_type": "stream",
          "name": "stdout",
          "text": [
            "{1000: 'M', 900: 'CM', 500: 'D', 400: 'CD', 100: 'C', 90: 'XC', 50: 'L', 40: 'XL', 10: 'X', 9: 'IX', 5: 'V', 4: 'IV', 1: 'I'}\n"
          ]
        }
      ]
    },
    {
      "cell_type": "code",
      "source": [
        "factors = {\n",
        "    1000: 'M',\n",
        "    900: 'CM',\n",
        "    500: 'D',\n",
        "    400: 'CD',\n",
        "    100: 'C',\n",
        "    90: 'XC',\n",
        "    50: 'L',\n",
        "    40: 'XL',\n",
        "    10: 'X',\n",
        "    9: 'IX',\n",
        "    5: 'V',\n",
        "    4: 'IV',\n",
        "    1: 'I'}"
      ],
      "metadata": {
        "id": "SXKxNFciygkM"
      },
      "execution_count": null,
      "outputs": []
    },
    {
      "cell_type": "code",
      "source": [
        "errors = {}\n",
        "for k,v in factors.items():\n",
        "  print(k)\n",
        "  try:\n",
        "    assert k % 2 == 0\n",
        "  except AssertionError:\n",
        "    errors[k] = f'{k} é impar'"
      ],
      "metadata": {
        "colab": {
          "base_uri": "https://localhost:8080/"
        },
        "id": "70ZtkzVKy2Cb",
        "outputId": "b6a9d00a-ba4c-442d-bcbd-7b9506b95351"
      },
      "execution_count": null,
      "outputs": [
        {
          "output_type": "stream",
          "name": "stdout",
          "text": [
            "1000\n",
            "900\n",
            "500\n",
            "400\n",
            "100\n",
            "90\n",
            "50\n",
            "40\n",
            "10\n",
            "9\n",
            "5\n",
            "4\n",
            "1\n"
          ]
        }
      ]
    },
    {
      "cell_type": "code",
      "source": [
        "errors"
      ],
      "metadata": {
        "colab": {
          "base_uri": "https://localhost:8080/"
        },
        "id": "gWR3w4kA0bM3",
        "outputId": "0a36804c-364d-461f-c4a2-f95f6c4a8bcd"
      },
      "execution_count": null,
      "outputs": [
        {
          "output_type": "execute_result",
          "data": {
            "text/plain": [
              "{9: '9 é impar', 5: '5 é impar', 1: '1 é impar'}"
            ]
          },
          "metadata": {},
          "execution_count": 67
        }
      ]
    },
    {
      "cell_type": "code",
      "source": [],
      "metadata": {
        "id": "mrvbB35WzDrN"
      },
      "execution_count": null,
      "outputs": []
    },
    {
      "cell_type": "markdown",
      "source": [
        "## Exercício 3. Conversão de números romanos para inteiros\n",
        "- Escreva um algoritmo que escreva um número em algarismos romanos como um número inteiro no intervalo de [1,3999]. "
      ],
      "metadata": {
        "id": "trN5tMhfwBVT"
      }
    },
    {
      "cell_type": "code",
      "source": [
        "num = 0\n",
        "while(not(isinstance(num,int) and (0 < num < 4000))):\n",
        "  try:\n",
        "    num = int(input('Selecione um inteiro no intervalo [1,3999]:'))\n",
        "  except ValueError:\n",
        "    print(\"Please, enter a valid integer\")\n",
        "    continue"
      ],
      "metadata": {
        "colab": {
          "base_uri": "https://localhost:8080/",
          "height": 409
        },
        "id": "pCJzdXd1krvH",
        "outputId": "7563414b-ce43-47d0-8e1d-62da89b5d5f3"
      },
      "execution_count": null,
      "outputs": [
        {
          "name": "stdout",
          "output_type": "stream",
          "text": [
            "Selecione um inteiro no intervalo [1,3999]:5000\n"
          ]
        },
        {
          "output_type": "error",
          "ename": "KeyboardInterrupt",
          "evalue": "ignored",
          "traceback": [
            "\u001b[0;31m---------------------------------------------------------------------------\u001b[0m",
            "\u001b[0;31mKeyboardInterrupt\u001b[0m                         Traceback (most recent call last)",
            "\u001b[0;32m<ipython-input-37-6cc602da7a18>\u001b[0m in \u001b[0;36m<module>\u001b[0;34m\u001b[0m\n\u001b[1;32m      2\u001b[0m \u001b[0;32mwhile\u001b[0m\u001b[0;34m(\u001b[0m\u001b[0;32mnot\u001b[0m\u001b[0;34m(\u001b[0m\u001b[0misinstance\u001b[0m\u001b[0;34m(\u001b[0m\u001b[0mnum\u001b[0m\u001b[0;34m,\u001b[0m\u001b[0mint\u001b[0m\u001b[0;34m)\u001b[0m \u001b[0;32mand\u001b[0m \u001b[0;34m(\u001b[0m\u001b[0;36m0\u001b[0m \u001b[0;34m<\u001b[0m \u001b[0mnum\u001b[0m \u001b[0;34m<\u001b[0m \u001b[0;36m4000\u001b[0m\u001b[0;34m)\u001b[0m\u001b[0;34m)\u001b[0m\u001b[0;34m)\u001b[0m\u001b[0;34m:\u001b[0m\u001b[0;34m\u001b[0m\u001b[0;34m\u001b[0m\u001b[0m\n\u001b[1;32m      3\u001b[0m   \u001b[0;32mtry\u001b[0m\u001b[0;34m:\u001b[0m\u001b[0;34m\u001b[0m\u001b[0;34m\u001b[0m\u001b[0m\n\u001b[0;32m----> 4\u001b[0;31m     \u001b[0mnum\u001b[0m \u001b[0;34m=\u001b[0m \u001b[0mint\u001b[0m\u001b[0;34m(\u001b[0m\u001b[0minput\u001b[0m\u001b[0;34m(\u001b[0m\u001b[0;34m'Selecione um inteiro no intervalo [1,3999]:'\u001b[0m\u001b[0;34m)\u001b[0m\u001b[0;34m)\u001b[0m\u001b[0;34m\u001b[0m\u001b[0;34m\u001b[0m\u001b[0m\n\u001b[0m\u001b[1;32m      5\u001b[0m   \u001b[0;32mexcept\u001b[0m \u001b[0mValueError\u001b[0m\u001b[0;34m:\u001b[0m\u001b[0;34m\u001b[0m\u001b[0;34m\u001b[0m\u001b[0m\n\u001b[1;32m      6\u001b[0m     \u001b[0mprint\u001b[0m\u001b[0;34m(\u001b[0m\u001b[0;34m\"Please, enter a valid integer\"\u001b[0m\u001b[0;34m)\u001b[0m\u001b[0;34m\u001b[0m\u001b[0;34m\u001b[0m\u001b[0m\n",
            "\u001b[0;32m/usr/local/lib/python3.8/dist-packages/ipykernel/kernelbase.py\u001b[0m in \u001b[0;36mraw_input\u001b[0;34m(self, prompt)\u001b[0m\n\u001b[1;32m    858\u001b[0m                 \u001b[0;34m\"raw_input was called, but this frontend does not support input requests.\"\u001b[0m\u001b[0;34m\u001b[0m\u001b[0;34m\u001b[0m\u001b[0m\n\u001b[1;32m    859\u001b[0m             )\n\u001b[0;32m--> 860\u001b[0;31m         return self._input_request(str(prompt),\n\u001b[0m\u001b[1;32m    861\u001b[0m             \u001b[0mself\u001b[0m\u001b[0;34m.\u001b[0m\u001b[0m_parent_ident\u001b[0m\u001b[0;34m,\u001b[0m\u001b[0;34m\u001b[0m\u001b[0;34m\u001b[0m\u001b[0m\n\u001b[1;32m    862\u001b[0m             \u001b[0mself\u001b[0m\u001b[0;34m.\u001b[0m\u001b[0m_parent_header\u001b[0m\u001b[0;34m,\u001b[0m\u001b[0;34m\u001b[0m\u001b[0;34m\u001b[0m\u001b[0m\n",
            "\u001b[0;32m/usr/local/lib/python3.8/dist-packages/ipykernel/kernelbase.py\u001b[0m in \u001b[0;36m_input_request\u001b[0;34m(self, prompt, ident, parent, password)\u001b[0m\n\u001b[1;32m    902\u001b[0m             \u001b[0;32mexcept\u001b[0m \u001b[0mKeyboardInterrupt\u001b[0m\u001b[0;34m:\u001b[0m\u001b[0;34m\u001b[0m\u001b[0;34m\u001b[0m\u001b[0m\n\u001b[1;32m    903\u001b[0m                 \u001b[0;31m# re-raise KeyboardInterrupt, to truncate traceback\u001b[0m\u001b[0;34m\u001b[0m\u001b[0;34m\u001b[0m\u001b[0;34m\u001b[0m\u001b[0m\n\u001b[0;32m--> 904\u001b[0;31m                 \u001b[0;32mraise\u001b[0m \u001b[0mKeyboardInterrupt\u001b[0m\u001b[0;34m(\u001b[0m\u001b[0;34m\"Interrupted by user\"\u001b[0m\u001b[0;34m)\u001b[0m \u001b[0;32mfrom\u001b[0m \u001b[0;32mNone\u001b[0m\u001b[0;34m\u001b[0m\u001b[0;34m\u001b[0m\u001b[0m\n\u001b[0m\u001b[1;32m    905\u001b[0m             \u001b[0;32mexcept\u001b[0m \u001b[0mException\u001b[0m \u001b[0;32mas\u001b[0m \u001b[0me\u001b[0m\u001b[0;34m:\u001b[0m\u001b[0;34m\u001b[0m\u001b[0;34m\u001b[0m\u001b[0m\n\u001b[1;32m    906\u001b[0m                 \u001b[0mself\u001b[0m\u001b[0;34m.\u001b[0m\u001b[0mlog\u001b[0m\u001b[0;34m.\u001b[0m\u001b[0mwarning\u001b[0m\u001b[0;34m(\u001b[0m\u001b[0;34m\"Invalid Message:\"\u001b[0m\u001b[0;34m,\u001b[0m \u001b[0mexc_info\u001b[0m\u001b[0;34m=\u001b[0m\u001b[0;32mTrue\u001b[0m\u001b[0;34m)\u001b[0m\u001b[0;34m\u001b[0m\u001b[0;34m\u001b[0m\u001b[0m\n",
            "\u001b[0;31mKeyboardInterrupt\u001b[0m: Interrupted by user"
          ]
        }
      ]
    },
    {
      "cell_type": "markdown",
      "source": [
        "## Exercício 4. Checando a consistência\n",
        "- Crie um algoritmo que pega os inteiros no intervalo [1,3999], gera as representações em algarismos romanos correspondentes e checa se o inteiro usado para gerar a versão em algarismos romanos é compatível com a versão convertida do exercício 3.\n",
        "Checar a consistência usando os comandos a seguir:\n",
        "\n",
        "\n",
        "```python\n",
        "try:\n",
        "  assert inteiro_original == converte_romano(romano(inteiro_original))\n",
        "except AssertionError:\n",
        "```\n",
        "\n",
        "O programa deve gerar um registro das entradas que deram erro (*log*) e trazer estatísticas de quantas entradas foram erradas proporcionalmente.\n"
      ],
      "metadata": {
        "id": "wSqxMb3L0pnM"
      }
    },
    {
      "cell_type": "code",
      "source": [],
      "metadata": {
        "id": "lEp2eW2K0pJz"
      },
      "execution_count": null,
      "outputs": []
    }
  ]
}