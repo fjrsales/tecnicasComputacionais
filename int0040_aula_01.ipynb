{
  "nbformat": 4,
  "nbformat_minor": 0,
  "metadata": {
    "colab": {
      "name": "int0040_aula_01.ipynb",
      "provenance": [],
      "collapsed_sections": [],
      "authorship_tag": "ABX9TyOb1YEhkiSx+3ft+kcQoZBT",
      "include_colab_link": true
    },
    "kernelspec": {
      "name": "python3",
      "display_name": "Python 3"
    },
    "language_info": {
      "name": "python"
    }
  },
  "cells": [
    {
      "cell_type": "markdown",
      "metadata": {
        "id": "view-in-github",
        "colab_type": "text"
      },
      "source": [
        "<a href=\"https://colab.research.google.com/github/fjrsales/tecnicasComputacionais/blob/main/int0040_aula_01.ipynb\" target=\"_parent\"><img src=\"https://colab.research.google.com/assets/colab-badge.svg\" alt=\"Open In Colab\"/></a>"
      ]
    },
    {
      "cell_type": "markdown",
      "source": [
        "# Introdução / Revisão - Python"
      ],
      "metadata": {
        "id": "ercd-g_4h-WB"
      }
    },
    {
      "cell_type": "markdown",
      "source": [
        "## Exercício 1. Validação de CPFs\n",
        "- CPF -> 11 dígitos [123.456.789-XY], onde X e Y são os dígitos verificadores. \n",
        "\n",
        "### a. Como determinar o X?\n",
        "CPF - 1 2 3 4 5 6 7 8 9 \n",
        "- Soma = [1 2 3 4 5 6 7 8 9] [10,9,8,7,6,5,4,3,2] = 1x10 + 2x9 + 3x8 ... + 3x8 + 2x9\n",
        "- X = 11 - mod(Soma,11), se mod(Soma,11) >= 2. X = 0, caso contrário.\n",
        "  - Obs: mod(Soma, 11) => Resto da divisão de Soma por 11 [Soma % 11] \n",
        "\n",
        "### b. Como determinar o Y?\n",
        "- Similar ao anterior mas adicionando o primeiro dígito verificador ao CPF e começando com os pesos a partir do 11 ao invés de 10, de forma decrescente.\n",
        "\n",
        "#### Especificações:\n",
        "1. O CPF será fornecido como uma string de nove caracteres [para evitar problemas quando o 1o dígito for zero];\n"
      ],
      "metadata": {
        "id": "5OV2XPt9iOV-"
      }
    },
    {
      "cell_type": "code",
      "source": [
        "## Exemplo de manipulação de listas\n",
        "mask = range(10,1,-1)\n",
        "cpf = '123456789'\n",
        "mask = zip(cpf,mask)\n",
        "\n",
        "mask_list = [*mask] # equivalente a list(mask)\n",
        "print(mask_list, type(mask_list))"
      ],
      "metadata": {
        "colab": {
          "base_uri": "https://localhost:8080/"
        },
        "id": "aLW6sh8xr7LK",
        "outputId": "ac3b7ab4-f1f4-49bd-a9a6-21bc9cf82991"
      },
      "execution_count": 2,
      "outputs": [
        {
          "output_type": "stream",
          "name": "stdout",
          "text": [
            "[('1', 10), ('2', 9), ('3', 8), ('4', 7), ('5', 6), ('6', 5), ('7', 4), ('8', 3), ('9', 2)] <class 'list'>\n"
          ]
        }
      ]
    },
    {
      "cell_type": "code",
      "source": [
        "# Outro exemplo de manipulação de estruturas de repetição\n",
        "mask = range(10,1,-1)\n",
        "cpf = '123456789'\n",
        "\n",
        "for i in range(len(mask)):\n",
        "  print(cpf[i],mask[i])\n",
        "\n",
        "pack = zip(cpf,mask)\n",
        "for item in pack:\n",
        "  print(item,type(item))\n",
        "  print(item[0],item[1])"
      ],
      "metadata": {
        "id": "c5FoO8s7tEzs"
      },
      "execution_count": null,
      "outputs": []
    },
    {
      "cell_type": "markdown",
      "source": [
        "### Solução do desafio - exercício 1"
      ],
      "metadata": {
        "id": "oqmu1u6ru18y"
      }
    },
    {
      "cell_type": "code",
      "source": [
        "cpf = '123456789' #string\n",
        "mask = range(10,1,-1)\n",
        "sum = 0\n",
        "\n",
        "for digit, weight in zip(cpf,mask):\n",
        "  sum += int(digit)*weight\n",
        "\n",
        "temp = sum%11\n",
        "if(temp < 2):\n",
        "  first_digit = 0\n",
        "else:\n",
        "  first_digit = 11 - temp\n",
        "\n",
        "#print(first_digit)\n",
        "cpf = cpf + str(first_digit)\n",
        "mask = range(11,1,-1)\n",
        "\n",
        "sum = 0;\n",
        "for digit,weight in zip(cpf,mask):\n",
        "  sum += int(digit)*weight\n",
        "\n",
        "temp = sum%11\n",
        "if(temp < 2):\n",
        "  second_digit = 0\n",
        "else:\n",
        "  second_digit = 11 - temp\n",
        "\n",
        "print('Os dígítos verificadores são: {} e {}'.format(first_digit,second_digit))\n"
      ],
      "metadata": {
        "colab": {
          "base_uri": "https://localhost:8080/"
        },
        "id": "AvPMuFddiNpe",
        "outputId": "cc96dc2c-e78b-4d56-a491-87e8cc0deff8"
      },
      "execution_count": null,
      "outputs": [
        {
          "output_type": "stream",
          "name": "stdout",
          "text": [
            "Dígítos verificadores são: 0 e 9\n"
          ]
        }
      ]
    },
    {
      "cell_type": "markdown",
      "source": [
        "### Versão 2 - Utilizando funções"
      ],
      "metadata": {
        "id": "HaiAine-vJNY"
      }
    },
    {
      "cell_type": "code",
      "source": [
        "import numpy as np\n",
        "\n",
        "def cpf_verifier(cpf: str) -> bool:\n",
        "  cpf_base = cpf[:9]\n",
        "  cpf_verf = cpf[9:11]\n",
        "  first_verifier = firstDigitVerifier(cpf_base)\n",
        "  second_verifier = secondDigitVerifier(cpf_base, first_verifier)\n",
        "  return (cpf_verf[0] == str(first_verifier)) and (cpf_verf[1] == str(second_verifier))\n",
        "\n",
        "def firstDigitVerifier(cpf_base: str) -> int:\n",
        "  base_arr = np.array(list(map(int,cpf_base)))\n",
        "  first_template = np.arange(10,1,-1)\n",
        "  temp = np.dot(first_template,base_arr) % 11\n",
        "  if(temp < 2):\n",
        "    return 0;\n",
        "  else:\n",
        "    return (11 - temp);\n",
        "\n",
        "def secondDigitVerifier(cpf_base:str, *args) -> int:\n",
        "  if not args:\n",
        "    first_verifier = firstDigitVerifier(cpf_base)\n",
        "  else:\n",
        "    first_verifier = args[0]\n",
        "  second_template = np.arange(11,1,-1)\n",
        "  base_arr = np.array(list(map(int,cpf_base)))\n",
        "  base_arr = np.append(base_arr,int(first_verifier))\n",
        "  temp = np.dot(second_template,base_arr) % 11\n",
        "  if(temp < 2):\n",
        "    return 0;\n",
        "  else:\n",
        "    return int(11 - temp); "
      ],
      "metadata": {
        "id": "Vyaedwe1WZAG"
      },
      "execution_count": 7,
      "outputs": []
    },
    {
      "cell_type": "markdown",
      "source": [
        "## Desafio 1.\n",
        "Dado um número inteiro não-negativo N, determine o tamanho das sequências de 1's consecutivos e a posição inicial de cada uma delas para a representação binária do número. Para armazenar as sequências, você deve criar uma estrutura onde, para cada sequencia de 1's, você armazena a posição relativa e o tamanho da sequência, considerando 0 a posição do bit menos significativo.\n",
        "\n",
        "Ex: (1234) = 0b10011010010\n",
        "pos = [1,4,7,10]\n",
        "tam = [1,1,2,1]"
      ],
      "metadata": {
        "id": "54RRHfFHwxvk"
      }
    },
    {
      "cell_type": "code",
      "source": [
        "b = bin(1234)\n",
        "print(b)\n",
        "for bit in b[2:]:\n",
        "  print(bit)\n",
        "\n"
      ],
      "metadata": {
        "id": "sbieo_wa5W4A",
        "colab": {
          "base_uri": "https://localhost:8080/"
        },
        "outputId": "1e9bcb25-2660-4d68-acfd-62a762987bae"
      },
      "execution_count": null,
      "outputs": [
        {
          "output_type": "stream",
          "name": "stdout",
          "text": [
            "0b10011010010\n",
            "1\n",
            "0\n",
            "0\n",
            "1\n",
            "1\n",
            "0\n",
            "1\n",
            "0\n",
            "0\n",
            "1\n",
            "0\n"
          ]
        }
      ]
    }
  ]
}