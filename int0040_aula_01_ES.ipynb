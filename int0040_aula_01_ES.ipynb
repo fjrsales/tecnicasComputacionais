{
  "nbformat": 4,
  "nbformat_minor": 0,
  "metadata": {
    "colab": {
      "name": "int0040_ES_aula_01.ipynb",
      "provenance": [],
      "authorship_tag": "ABX9TyNxG45PdFdgV4Sl7M9WT69b",
      "include_colab_link": true
    },
    "kernelspec": {
      "name": "python3",
      "display_name": "Python 3"
    },
    "language_info": {
      "name": "python"
    }
  },
  "cells": [
    {
      "cell_type": "markdown",
      "metadata": {
        "id": "view-in-github",
        "colab_type": "text"
      },
      "source": [
        "<a href=\"https://colab.research.google.com/github/fjrsales/tecnicasComputacionais/blob/2021.2/int0040_ES_aula_01.ipynb\" target=\"_parent\"><img src=\"https://colab.research.google.com/assets/colab-badge.svg\" alt=\"Open In Colab\"/></a>"
      ]
    },
    {
      "cell_type": "markdown",
      "source": [
        "Tecnicas Computacionais (Aula 1)"
      ],
      "metadata": {
        "id": "wT3eLgXlimgN"
      }
    },
    {
      "cell_type": "code",
      "source": [
        "##digitos do CPF\n",
        "\n",
        "cpf=str(input())\n",
        "\n",
        "soma=0.0\n",
        "j=0\n",
        "i=10\n",
        "while(i>1):\n",
        "  soma+=i*int(cpf[j])\n",
        "  j+=1\n",
        "  i-=1\n",
        "if (soma%11)>=2:\n",
        "  x=11-(soma%11)\n",
        "else:\n",
        "  x=0\n",
        "print(int(x))\n",
        "\n",
        "soma=0.0\n",
        "j=0\n",
        "i=11\n",
        "while(i>2):\n",
        "  soma+=i*int(cpf[j])\n",
        "  j+=1\n",
        "  i-=1\n",
        "soma+=x*2\n",
        "if (soma%11)>=2:\n",
        "  y=11-(soma%11)\n",
        "else:\n",
        "  y=0\n",
        "print(int(y))"
      ],
      "metadata": {
        "colab": {
          "base_uri": "https://localhost:8080/"
        },
        "id": "hLccKi_akx_L",
        "outputId": "2d12d1c6-bdc0-4277-ef54-fcaf62d88ea7"
      },
      "execution_count": null,
      "outputs": [
        {
          "output_type": "stream",
          "name": "stdout",
          "text": [
            "123456789\n",
            "0\n",
            "9\n"
          ]
        }
      ]
    },
    {
      "cell_type": "code",
      "source": [
        "h=int(input())  \n",
        "b=bin(h)   #transforma hexadecimal em binário\n",
        "str(b) \n",
        "maiork=0   #tamanho da maior sequência\n",
        "k=0        #sequências\n",
        "pos=[]     #lista contendo a posição do primeiro termo de cada sequência\n",
        "tam=[]     #tamanho de cada sequência\n",
        "for n in range(2,len(b)):\n",
        "  if(b[n]=='1' and b[n-1]!='1'):\n",
        "    k=1\n",
        "    pos.append(n-1)\n",
        "  if(n!=(len(b)-1) and b[n]=='1' and b[n+1]=='1'):\n",
        "    k+=1\n",
        "  else:\n",
        "    if(k!=0):\n",
        "      tam.append(k)\n",
        "    if(k>=maiork):\n",
        "      maiork=k\n",
        "    k=0\n",
        "print(\"bin =\", b)\n",
        "print(\"maior sequência =\", maiork)\n",
        "print(\"pos =\", pos)\n",
        "print(\"tam =\", tam)"
      ],
      "metadata": {
        "colab": {
          "base_uri": "https://localhost:8080/"
        },
        "id": "adi13jTDv9q0",
        "outputId": "2de1e561-ead8-4ac8-fc41-4e6d2f036f31"
      },
      "execution_count": null,
      "outputs": [
        {
          "output_type": "stream",
          "name": "stdout",
          "text": [
            "1234\n",
            "bin = 0b10011010010\n",
            "maior sequência = 2\n",
            "pos = [1, 4, 7, 10]\n",
            "tam = [1, 2, 1, 1]\n"
          ]
        }
      ]
    }
  ]
}
