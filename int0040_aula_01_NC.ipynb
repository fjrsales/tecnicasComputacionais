{
  "nbformat": 4,
  "nbformat_minor": 0,
  "metadata": {
    "colab": {
      "name": "int0040_aula_01_NC.ipynb",
      "provenance": [],
      "authorship_tag": "ABX9TyMYvJImFGA4j+aOuWngOTE6",
      "include_colab_link": true
    },
    "kernelspec": {
      "name": "python3",
      "display_name": "Python 3"
    },
    "language_info": {
      "name": "python"
    }
  },
  "cells": [
    {
      "cell_type": "markdown",
      "metadata": {
        "id": "view-in-github",
        "colab_type": "text"
      },
      "source": [
        "<a href=\"https://colab.research.google.com/github/fjrsales/tecnicasComputacionais/blob/main_2022.1/int0040_aula_01_NC.ipynb\" target=\"_parent\"><img src=\"https://colab.research.google.com/assets/colab-badge.svg\" alt=\"Open In Colab\"/></a>"
      ]
    },
    {
      "cell_type": "markdown",
      "source": [
        "## Desafios semana 18 a 25/07"
      ],
      "metadata": {
        "id": "TFf1u0xlGMXP"
      }
    },
    {
      "cell_type": "markdown",
      "source": [
        "### Exercício 1. Validação de CPFs\n",
        "- CPF -> 11 dígitos [123.456.789-XY], onde X e Y são os dígitos verificadores. \n",
        "\n",
        "### a. Como determinar o X?\n",
        "CPF - 1 2 3 4 5 6 7 8 9 \n",
        "- Soma = [1 2 3 4 5 6 7 8 9] [10,9,8,7,6,5,4,3,2] = 1x10 + 2x9 + 3x8 ... + 3x8 + 2x9\n",
        "- X = 11 - mod(Soma,11), se mod(Soma,11) >= 2. X = 0, caso contrário.\n",
        "  - Obs: mod(Soma, 11) => Resto da divisão de Soma por 11 [Soma % 11] \n",
        "\n",
        "### b. Como determinar o Y?\n",
        "- Similar ao anterior mas adicionando o primeiro dígito verificador ao CPF e começando com os pesos a partir do 11 ao invés de 10, de forma decrescente.\n",
        "\n",
        "#### Especificações:\n",
        "1. O CPF será fornecido como uma string de nove caracteres [para evitar problemas quando o 1o dígito for zero];"
      ],
      "metadata": {
        "id": "380uBG3rHyRb"
      }
    },
    {
      "cell_type": "code",
      "source": [
        "import numpy as np"
      ],
      "metadata": {
        "id": "WiqwKu05J7fp"
      },
      "execution_count": null,
      "outputs": []
    },
    {
      "cell_type": "code",
      "source": [
        "cpf = input('Digite um CPF: ')"
      ],
      "metadata": {
        "colab": {
          "base_uri": "https://localhost:8080/"
        },
        "id": "MucvKyYPH48C",
        "outputId": "711c9aef-0319-43f3-89bc-cf4fc3e5f946"
      },
      "execution_count": null,
      "outputs": [
        {
          "name": "stdout",
          "output_type": "stream",
          "text": [
            "Digite um CPF: 041590883\n"
          ]
        }
      ]
    },
    {
      "cell_type": "code",
      "source": [
        "pesos_x = [i for i in range(10,1,-1)]\n",
        "pesos_y = [i for i in range(11,1,-1)]\n",
        "print(pesos_x)\n",
        "print(pesos_y)"
      ],
      "metadata": {
        "colab": {
          "base_uri": "https://localhost:8080/"
        },
        "id": "w-SQDrotIBQH",
        "outputId": "fc274bc8-ed7d-4e69-aee9-609255c2b917"
      },
      "execution_count": null,
      "outputs": [
        {
          "output_type": "stream",
          "name": "stdout",
          "text": [
            "[10, 9, 8, 7, 6, 5, 4, 3, 2]\n",
            "[11, 10, 9, 8, 7, 6, 5, 4, 3, 2]\n"
          ]
        }
      ]
    },
    {
      "cell_type": "code",
      "source": [
        "def encontrar_x(cpf,pesos_x):\n",
        "  cpf_numeros = [int(i) for i in cpf.split('-')[0] if i.isdigit()]\n",
        "  s1 = np.multiply(cpf_numeros,pesos_x).sum()\n",
        "  if s1%11 >= 2:\n",
        "    X = 11 - (s1%11)\n",
        "  else:\n",
        "    X = 0\n",
        "  return X"
      ],
      "metadata": {
        "id": "mz8hfLcpINlo"
      },
      "execution_count": null,
      "outputs": []
    },
    {
      "cell_type": "code",
      "source": [
        "def encontrar_y(cpf,pesos_y,pesos_x):\n",
        "  cpf_numeros = [int(i) for i in cpf.split('-')[0] if i.isdigit()]\n",
        "  X = encontrar_x(cpf,pesos_x)\n",
        "  cpf_numeros.append(X)\n",
        "  s2 = np.multiply(cpf_numeros,pesos_y).sum()\n",
        "  if s2 % 11 >= 2:\n",
        "    Y = 11 - (s2 % 11)\n",
        "  else:\n",
        "    Y=0\n",
        "  return Y"
      ],
      "metadata": {
        "id": "hLLhh66mIOQw"
      },
      "execution_count": null,
      "outputs": []
    },
    {
      "cell_type": "code",
      "source": [
        "print(\"Dígitos verificadores:\",encontrar_x(cpf,pesos_x),encontrar_y(cpf,pesos_y,pesos_x))\n",
        "print(cpf+str(encontrar_x(cpf,pesos_x))+str(encontrar_y(cpf,pesos_y,pesos_x)))"
      ],
      "metadata": {
        "colab": {
          "base_uri": "https://localhost:8080/"
        },
        "id": "3q9BaB9qIRia",
        "outputId": "827a6bf4-2647-43b1-f887-42be278a1ab1"
      },
      "execution_count": null,
      "outputs": [
        {
          "output_type": "stream",
          "name": "stdout",
          "text": [
            "Dígitos verificadores: 3 3\n",
            "04159088333\n"
          ]
        }
      ]
    },
    {
      "cell_type": "markdown",
      "source": [
        "### Desafio 1: Dado um número inteiro não-negativo N, determine o tamanho das sequências de 1's consecutivos e a posição inicial de cada uma delas para a representação binária do número. Para armazenar as sequências, você deve criar uma estrutura onde, para cada sequencia de 1's, você armazena a posição relativa e o tamanho da sequência, considerando 0 a posição do bit menos significativo.\n",
        "\n",
        "### Ex: (1234) = 0b10011010010 pos = [1,4,6,10] tam = [1,1,2,1]"
      ],
      "metadata": {
        "id": "mzpWAyM1Jwhq"
      }
    },
    {
      "cell_type": "code",
      "execution_count": null,
      "metadata": {
        "colab": {
          "base_uri": "https://localhost:8080/"
        },
        "id": "woYXd3qbJWqz",
        "outputId": "5ef3f9cb-de25-4220-9cc9-6ab6299ca29c"
      },
      "outputs": [
        {
          "name": "stdout",
          "output_type": "stream",
          "text": [
            "Digite um número inteiro não negativo: 1234\n"
          ]
        }
      ],
      "source": [
        "x = int(input('Digite um número inteiro não negativo: '))"
      ]
    },
    {
      "cell_type": "code",
      "source": [
        "binario = [int(x) for x in bin(x).replace('0b','')]\n",
        "binario.reverse()\n",
        "binario"
      ],
      "metadata": {
        "colab": {
          "base_uri": "https://localhost:8080/"
        },
        "id": "1SoFFxjbLgJF",
        "outputId": "5e99c97b-e7e8-4e06-9eb9-d6dec7fc2680"
      },
      "execution_count": null,
      "outputs": [
        {
          "output_type": "execute_result",
          "data": {
            "text/plain": [
              "[0, 1, 0, 0, 1, 0, 1, 1, 0, 0, 1]"
            ]
          },
          "metadata": {},
          "execution_count": 37
        }
      ]
    },
    {
      "cell_type": "code",
      "source": [
        "def verifica(posicao,vetor):\n",
        "  count = 0\n",
        "  for i in range(posicao,len(vetor)):\n",
        "    if vetor[i] == 1:\n",
        "      count=count+1\n",
        "    else:\n",
        "      break\n",
        "  return count\n"
      ],
      "metadata": {
        "id": "gpvuosE0WUdW"
      },
      "execution_count": null,
      "outputs": []
    },
    {
      "cell_type": "code",
      "source": [
        "contador_um = 0\n",
        "pos = []\n",
        "tam = []\n",
        "i = 0\n",
        "while i < len(binario) and i >= 0:\n",
        "  if binario[i] == 1:\n",
        "    pos.append(i)\n",
        "    count = verifica(i,binario)\n",
        "    tam.append(count)\n",
        "    i = i + count\n",
        "  else:\n",
        "    i = i+1\n",
        "\n",
        "print(binario)\n",
        "print('Posições',pos)\n",
        "print('Tamanhos',tam)\n",
        "\n",
        "    \n",
        "  "
      ],
      "metadata": {
        "colab": {
          "base_uri": "https://localhost:8080/"
        },
        "id": "B8qn4XnLLsLF",
        "outputId": "a8ce7e3f-da0c-4f80-80a5-0bafc85cfa24"
      },
      "execution_count": null,
      "outputs": [
        {
          "output_type": "stream",
          "name": "stdout",
          "text": [
            "[0, 1, 0, 0, 1, 0, 1, 1, 0, 0, 1]\n",
            "Posições [1, 4, 6, 10]\n",
            "Tamanhos [1, 1, 2, 1]\n"
          ]
        }
      ]
    },
    {
      "cell_type": "markdown",
      "source": [
        "### Desafio 2: Faça uma função que retorna a sequencia dos n primeiros números de Fibonacci, sendo os dois primeiros iguais a 1 [posições 0 e 1]"
      ],
      "metadata": {
        "id": "eMN7OEr_GPL8"
      }
    },
    {
      "cell_type": "code",
      "source": [
        "def fibonacci(n):\n",
        "  lista = []\n",
        "  for i in range(n):\n",
        "    if i <=1:\n",
        "      lista.append(1)\n",
        "    else:\n",
        "      lista.append(lista[-1]+lista[-2])\n",
        "  return lista\n"
      ],
      "metadata": {
        "id": "VFrkbrgrGgTl"
      },
      "execution_count": null,
      "outputs": []
    },
    {
      "cell_type": "code",
      "source": [
        "fibonacci(15)"
      ],
      "metadata": {
        "colab": {
          "base_uri": "https://localhost:8080/"
        },
        "id": "67d5bW7lHGX6",
        "outputId": "ece18028-63d6-4a78-b2fb-6939b1067016"
      },
      "execution_count": null,
      "outputs": [
        {
          "output_type": "execute_result",
          "data": {
            "text/plain": [
              "[1, 1, 2, 3, 5, 8, 13, 21, 34, 55, 89, 144, 233, 377, 610]"
            ]
          },
          "metadata": {},
          "execution_count": 50
        }
      ]
    }
  ]
}