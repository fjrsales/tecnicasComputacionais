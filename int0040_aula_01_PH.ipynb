{
  "nbformat": 4,
  "nbformat_minor": 0,
  "metadata": {
    "colab": {
      "name": "AULA 14/02 Tecnicas computacionais",
      "provenance": [],
      "authorship_tag": "ABX9TyNXyOmgkQXX3/vfSpOozmJx",
      "include_colab_link": true
    },
    "kernelspec": {
      "name": "python3",
      "display_name": "Python 3"
    },
    "language_info": {
      "name": "python"
    }
  },
  "cells": [
    {
      "cell_type": "markdown",
      "metadata": {
        "id": "view-in-github",
        "colab_type": "text"
      },
      "source": [
        "<a href=\"https://colab.research.google.com/github/fjrsales/tecnicasComputacionais/blob/2021.2/int0040_aula_01_PH.ipynb\" target=\"_parent\"><img src=\"https://colab.research.google.com/assets/colab-badge.svg\" alt=\"Open In Colab\"/></a>"
      ]
    },
    {
      "cell_type": "markdown",
      "source": [
        "## Introdução / Revisão - Python"
      ],
      "metadata": {
        "id": "CNkuVt9fic7k"
      }
    },
    {
      "cell_type": "markdown",
      "source": [
        "1. Validação CPF\n",
        "CPF 11 digitos:\n",
        "123.456.789-XY onde XY são digitos verificadores\n",
        "\n",
        "### a. Como determinar o X?\n",
        "- Cpf 1 2 3 4 5 6 7 8 9\n",
        "- Soma = (1x10) + (2x9) + (3x8) + (4x7) + ... + (9x1)\n",
        "- x = 11 - mod(Soma,11), se mod(Soma,11) >=2\n",
        "- x = 0 caso contrário.\n"
      ],
      "metadata": {
        "id": "U-8Oue_Fikhz"
      }
    },
    {
      "cell_type": "code",
      "source": [
        "k=10\n",
        "soma = 0\n",
        "print('Digite os 9 primeiros dígitos do CPF')\n",
        "cpf = str(input())\n",
        "for n in range(9):\n",
        "  soma += int(cpf[n]) * k\n",
        "  k = k-1\n",
        "if soma%11 >= 2:\n",
        "  verificador = 11 - (soma%11)\n",
        "else:\n",
        "  verificador = 0\n",
        "print(soma)\n",
        "print('O digito X é: ', verificador)"
      ],
      "metadata": {
        "colab": {
          "base_uri": "https://localhost:8080/"
        },
        "id": "lG_TRfIHknlG",
        "outputId": "1eebc45b-48a8-4e02-dd0d-57c455d30cbb"
      },
      "execution_count": 1,
      "outputs": [
        {
          "output_type": "stream",
          "name": "stdout",
          "text": [
            "Digite os 9 primeiros dígitos do CPF\n",
            "123456789\n",
            "210\n",
            "O digito X é:  0\n"
          ]
        }
      ]
    },
    {
      "cell_type": "markdown",
      "source": [
        "### a. Como determinar o Y?\n",
        "- Cpf 1 2 3 4 5 6 7 8 9\n",
        "- Soma = (1x10) + (2x9) + (3x8) + (4x7) + ... + (9x1)\n",
        "- x = 11 - mod(Soma,11), se mod(Soma,11) >=2\n",
        "- x = 0 caso contrário."
      ],
      "metadata": {
        "id": "eYJQ-VLuiQ7V"
      }
    },
    {
      "cell_type": "code",
      "source": [
        "k=10\n",
        "soma = 0\n",
        "print('Digite os 9 primeiros dígitos do CPF')\n",
        "cpf = str(input())\n",
        "for n in range(9):\n",
        "  soma += int(cpf[n]) * k\n",
        "  k = k-1\n",
        "if soma%11 >= 2:\n",
        "  X = 11 - (soma%11)\n",
        "else:\n",
        "  X = 0\n",
        "print('O digito X é: ', X)\n",
        "\n",
        "k=11\n",
        "soma = 0\n",
        "cpf = cpf + str(X)\n",
        "for n in range(10):\n",
        "  soma += int(cpf[n]) * k\n",
        "  k = k-1\n",
        "if soma%11 >= 2:\n",
        "  Y = 11 - (soma%11)\n",
        "else:\n",
        "  Y = 0\n",
        "print('O digito Y é: ', Y)"
      ],
      "metadata": {
        "id": "FbAOkkfEovPC"
      },
      "execution_count": null,
      "outputs": []
    },
    {
      "cell_type": "markdown",
      "source": [
        "## Desafio 1\n",
        "\n",
        "### Dado um número inteiro não-negativo N, determine o tamanho das sequências de 1's consecutivos e a posição inicial de cada uma delas para a representação binária do número. Para armazenar as sequências, você deve criar uma estrutura onde, para cada sequencia de 1's, você armazena a posição relativa e o tamanho da sequência, considerando 0 a posição do bit menos significativo.\n",
        "\n",
        "Ex: (1234) = 0b10011010010 pos = [1,4,7,10] tam = [1,2,1,1]"
      ],
      "metadata": {
        "id": "6YYk157Ziqxp"
      }
    },
    {
      "cell_type": "code",
      "source": [
        "print('Digite um numero inteiro não negativo:')\n",
        "b = bin(int(input())) + '0'\n",
        "print('Numero digitado em binario: ',b)\n",
        "amount = []\n",
        "pos = []\n",
        "for n in range(len(b)):\n",
        "  n = int(n)\n",
        "  if(b[n] == '1' and b[n-1]== '0' or b[n] == '1' and b[n-1]== 'b'):\n",
        "    pos.append(n)\n",
        "    k=1\n",
        "    test = n\n",
        "    while(b[test+1] == '1'):\n",
        "      k += 1\n",
        "      test += 1\n",
        "    amount.append(k)\n",
        "print(pos)\n",
        "print(amount)"
      ],
      "metadata": {
        "colab": {
          "base_uri": "https://localhost:8080/"
        },
        "id": "JWJUOpwhjTJV",
        "outputId": "6edb8502-2b44-4513-ae36-6b2116a97f4e"
      },
      "execution_count": 8,
      "outputs": [
        {
          "output_type": "stream",
          "name": "stdout",
          "text": [
            "Digite um numero inteiro não negativo:\n",
            "1234\n",
            "Numero digitado em binario:  0b100110100100\n",
            "[2, 5, 8, 11]\n",
            "[1, 2, 1, 1]\n"
          ]
        }
      ]
    }
  ]
}